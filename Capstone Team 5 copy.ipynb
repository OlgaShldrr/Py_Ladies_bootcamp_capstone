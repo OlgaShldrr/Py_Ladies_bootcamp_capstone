{
 "cells": [
  {
   "cell_type": "markdown",
   "metadata": {},
   "source": [
    "# Introduction\n",
    "\n",
    "This capstone looks at the Malnutrition across the world dataset from Kaggle. The datasets are available here: https://www.kaggle.com/ruchi798/malnutrition-across-the-globe. \n",
    "\n",
    "The capstone answers the following questions:\n",
    "1. What is the average proportion of the underweight by country's income group?\n",
    "2. What are top-5 countries with highest proportion of the underweight? \n",
    "3. What is the average proportion of all malnutrition types by country's income group\n",
    "4. What are top-5 countries with highest proportion of the overweight in 2018? \n",
    "How has the country Tunisia developed over years in terms of the proportion of the overweight? \n",
    "6. Is there a correlation between income group & under/overweight?\n",
    "\n"
   ]
  },
  {
   "cell_type": "markdown",
   "metadata": {},
   "source": [
    "Let's first import necessary modules and data, first."
   ]
  },
  {
   "cell_type": "code",
   "execution_count": 8,
   "metadata": {},
   "outputs": [
    {
     "data": {
      "text/html": [
       "<div>\n",
       "<style scoped>\n",
       "    .dataframe tbody tr th:only-of-type {\n",
       "        vertical-align: middle;\n",
       "    }\n",
       "\n",
       "    .dataframe tbody tr th {\n",
       "        vertical-align: top;\n",
       "    }\n",
       "\n",
       "    .dataframe thead th {\n",
       "        text-align: right;\n",
       "    }\n",
       "</style>\n",
       "<table border=\"1\" class=\"dataframe\">\n",
       "  <thead>\n",
       "    <tr style=\"text-align: right;\">\n",
       "      <th></th>\n",
       "      <th>Unnamed: 0</th>\n",
       "      <th>ISO code</th>\n",
       "      <th>Country</th>\n",
       "      <th>Survey Year</th>\n",
       "      <th>Year</th>\n",
       "      <th>Income Classification</th>\n",
       "      <th>LDC</th>\n",
       "      <th>LIFD</th>\n",
       "      <th>LLDC or SID2</th>\n",
       "      <th>Survey Sample (N)</th>\n",
       "      <th>Severe Wasting</th>\n",
       "      <th>Wasting</th>\n",
       "      <th>Overweight</th>\n",
       "      <th>Stunting</th>\n",
       "      <th>Underweight</th>\n",
       "      <th>Notes</th>\n",
       "      <th>Report Author</th>\n",
       "      <th>Source</th>\n",
       "      <th>Short Source</th>\n",
       "      <th>U5 Population ('000s)</th>\n",
       "    </tr>\n",
       "  </thead>\n",
       "  <tbody>\n",
       "    <tr>\n",
       "      <th>0</th>\n",
       "      <td>0</td>\n",
       "      <td>AFG</td>\n",
       "      <td>AFGHANISTAN</td>\n",
       "      <td>1997</td>\n",
       "      <td>1997</td>\n",
       "      <td>0</td>\n",
       "      <td>1.0</td>\n",
       "      <td>1.0</td>\n",
       "      <td>1.0</td>\n",
       "      <td>4,846</td>\n",
       "      <td>NaN</td>\n",
       "      <td>18.2</td>\n",
       "      <td>6.5</td>\n",
       "      <td>53.2</td>\n",
       "      <td>44.9</td>\n",
       "      <td>Converted estimates</td>\n",
       "      <td>CIET International</td>\n",
       "      <td>Afghanistan 1997 multiple indicator baseline (...</td>\n",
       "      <td>MICS</td>\n",
       "      <td>3838.877</td>\n",
       "    </tr>\n",
       "    <tr>\n",
       "      <th>1</th>\n",
       "      <td>1</td>\n",
       "      <td>AFG</td>\n",
       "      <td>AFGHANISTAN</td>\n",
       "      <td>2004</td>\n",
       "      <td>2004</td>\n",
       "      <td>0</td>\n",
       "      <td>1.0</td>\n",
       "      <td>1.0</td>\n",
       "      <td>1.0</td>\n",
       "      <td>946</td>\n",
       "      <td>3.5</td>\n",
       "      <td>8.6</td>\n",
       "      <td>4.6</td>\n",
       "      <td>59.3</td>\n",
       "      <td>32.9</td>\n",
       "      <td>NaN</td>\n",
       "      <td>Ministry of Public Health (Afghanistan), UNICE...</td>\n",
       "      <td>Summary report of the national nutrition surve...</td>\n",
       "      <td>NNS</td>\n",
       "      <td>4789.353</td>\n",
       "    </tr>\n",
       "    <tr>\n",
       "      <th>2</th>\n",
       "      <td>2</td>\n",
       "      <td>AFG</td>\n",
       "      <td>AFGHANISTAN</td>\n",
       "      <td>2013</td>\n",
       "      <td>2013</td>\n",
       "      <td>0</td>\n",
       "      <td>1.0</td>\n",
       "      <td>1.0</td>\n",
       "      <td>1.0</td>\n",
       "      <td>44,26,469</td>\n",
       "      <td>4.0</td>\n",
       "      <td>9.5</td>\n",
       "      <td>5.3</td>\n",
       "      <td>40.4</td>\n",
       "      <td>24.6</td>\n",
       "      <td>NaN</td>\n",
       "      <td>Ministry of Public Health, UNICEF and the Aga ...</td>\n",
       "      <td>Afghanistan National Nutrition Survey 2013.</td>\n",
       "      <td>SMART</td>\n",
       "      <td>5444.573</td>\n",
       "    </tr>\n",
       "    <tr>\n",
       "      <th>3</th>\n",
       "      <td>3</td>\n",
       "      <td>AFG</td>\n",
       "      <td>AFGHANISTAN</td>\n",
       "      <td>2018</td>\n",
       "      <td>2018</td>\n",
       "      <td>0</td>\n",
       "      <td>1.0</td>\n",
       "      <td>1.0</td>\n",
       "      <td>1.0</td>\n",
       "      <td>NaN</td>\n",
       "      <td>1.6</td>\n",
       "      <td>5.1</td>\n",
       "      <td>4.1</td>\n",
       "      <td>38.2</td>\n",
       "      <td>19.1</td>\n",
       "      <td>NaN</td>\n",
       "      <td>KIT Royal Tropical Institute</td>\n",
       "      <td>Afghanistan Health Survey 2018</td>\n",
       "      <td>Other</td>\n",
       "      <td>5601.443</td>\n",
       "    </tr>\n",
       "    <tr>\n",
       "      <th>4</th>\n",
       "      <td>4</td>\n",
       "      <td>ALB</td>\n",
       "      <td>ALBANIA</td>\n",
       "      <td>1996-98</td>\n",
       "      <td>1997</td>\n",
       "      <td>2</td>\n",
       "      <td>0.0</td>\n",
       "      <td>0.0</td>\n",
       "      <td>0.0</td>\n",
       "      <td>7,642</td>\n",
       "      <td>NaN</td>\n",
       "      <td>8.1</td>\n",
       "      <td>9.5</td>\n",
       "      <td>20.4</td>\n",
       "      <td>7.1</td>\n",
       "      <td>Converted estimates</td>\n",
       "      <td>Institute of Public Health, Food and Nutrition...</td>\n",
       "      <td>National study on nutrition in Albania. Instit...</td>\n",
       "      <td>Other</td>\n",
       "      <td>309.225</td>\n",
       "    </tr>\n",
       "  </tbody>\n",
       "</table>\n",
       "</div>"
      ],
      "text/plain": [
       "   Unnamed: 0 ISO code      Country Survey Year  Year  Income Classification  \\\n",
       "0           0      AFG  AFGHANISTAN        1997  1997                      0   \n",
       "1           1      AFG  AFGHANISTAN        2004  2004                      0   \n",
       "2           2      AFG  AFGHANISTAN        2013  2013                      0   \n",
       "3           3      AFG  AFGHANISTAN        2018  2018                      0   \n",
       "4           4      ALB      ALBANIA     1996-98  1997                      2   \n",
       "\n",
       "   LDC  LIFD  LLDC or SID2 Survey Sample (N)  Severe Wasting  Wasting  \\\n",
       "0  1.0   1.0           1.0             4,846             NaN     18.2   \n",
       "1  1.0   1.0           1.0               946             3.5      8.6   \n",
       "2  1.0   1.0           1.0         44,26,469             4.0      9.5   \n",
       "3  1.0   1.0           1.0               NaN             1.6      5.1   \n",
       "4  0.0   0.0           0.0             7,642             NaN      8.1   \n",
       "\n",
       "   Overweight  Stunting  Underweight                Notes  \\\n",
       "0         6.5      53.2         44.9  Converted estimates   \n",
       "1         4.6      59.3         32.9                  NaN   \n",
       "2         5.3      40.4         24.6                  NaN   \n",
       "3         4.1      38.2         19.1                  NaN   \n",
       "4         9.5      20.4          7.1  Converted estimates   \n",
       "\n",
       "                                       Report Author  \\\n",
       "0                                 CIET International   \n",
       "1  Ministry of Public Health (Afghanistan), UNICE...   \n",
       "2  Ministry of Public Health, UNICEF and the Aga ...   \n",
       "3                       KIT Royal Tropical Institute   \n",
       "4  Institute of Public Health, Food and Nutrition...   \n",
       "\n",
       "                                              Source Short Source  \\\n",
       "0  Afghanistan 1997 multiple indicator baseline (...         MICS   \n",
       "1  Summary report of the national nutrition surve...          NNS   \n",
       "2        Afghanistan National Nutrition Survey 2013.        SMART   \n",
       "3                     Afghanistan Health Survey 2018        Other   \n",
       "4  National study on nutrition in Albania. Instit...        Other   \n",
       "\n",
       "   U5 Population ('000s)  \n",
       "0               3838.877  \n",
       "1               4789.353  \n",
       "2               5444.573  \n",
       "3               5601.443  \n",
       "4                309.225  "
      ]
     },
     "execution_count": 8,
     "metadata": {},
     "output_type": "execute_result"
    }
   ],
   "source": [
    "# Load the Pandas libraries with alias 'pd' \n",
    "import pandas as pd \n",
    "\n",
    "\n",
    "data = pd.read_csv(\"malnutrition-estimates.csv\")\n",
    "data2 = pd.read_csv(\"country-wise-average.csv\") \n",
    "\n",
    "#Let's do a left join on column \"Country\".\n",
    "data.set_index('Country').join(data2.set_index('Country'), rsuffix='_df2')\n",
    "\n",
    "#Let's preview the data\n",
    "data.head()"
   ]
  },
  {
   "cell_type": "markdown",
   "metadata": {},
   "source": [
    "# 1. Average proportion of the underweight by country's income group\n"
   ]
  },
  {
   "cell_type": "code",
   "execution_count": 9,
   "metadata": {
    "scrolled": false
   },
   "outputs": [
    {
     "data": {
      "text/html": [
       "<div>\n",
       "<style scoped>\n",
       "    .dataframe tbody tr th:only-of-type {\n",
       "        vertical-align: middle;\n",
       "    }\n",
       "\n",
       "    .dataframe tbody tr th {\n",
       "        vertical-align: top;\n",
       "    }\n",
       "\n",
       "    .dataframe thead th {\n",
       "        text-align: right;\n",
       "    }\n",
       "</style>\n",
       "<table border=\"1\" class=\"dataframe\">\n",
       "  <thead>\n",
       "    <tr style=\"text-align: right;\">\n",
       "      <th></th>\n",
       "      <th>Underweight</th>\n",
       "    </tr>\n",
       "    <tr>\n",
       "      <th>Income Classification</th>\n",
       "      <th></th>\n",
       "    </tr>\n",
       "  </thead>\n",
       "  <tbody>\n",
       "    <tr>\n",
       "      <th>High Income</th>\n",
       "      <td>3.564384</td>\n",
       "    </tr>\n",
       "    <tr>\n",
       "      <th>Low Income</th>\n",
       "      <td>23.560731</td>\n",
       "    </tr>\n",
       "    <tr>\n",
       "      <th>Lower Middle Income</th>\n",
       "      <td>20.300606</td>\n",
       "    </tr>\n",
       "    <tr>\n",
       "      <th>Upper Middle Income</th>\n",
       "      <td>7.748571</td>\n",
       "    </tr>\n",
       "  </tbody>\n",
       "</table>\n",
       "</div>"
      ],
      "text/plain": [
       "                       Underweight\n",
       "Income Classification             \n",
       "High Income               3.564384\n",
       "Low Income               23.560731\n",
       "Lower Middle Income      20.300606\n",
       "Upper Middle Income       7.748571"
      ]
     },
     "execution_count": 9,
     "metadata": {},
     "output_type": "execute_result"
    }
   ],
   "source": [
    "# Let's recode Income Classification variable to have a better understandable result\n",
    "rule = {0: 'Low Income', 1: 'Lower Middle Income', 2: 'Upper Middle Income', 3: 'High Income'}\n",
    "data['Income_Categorical'] = data['Income Classification']\n",
    "data['Income Classification'] = data['Income Classification'].replace(rule)\n",
    "data[['Income Classification','Underweight']].groupby('Income Classification').mean()"
   ]
  },
  {
   "cell_type": "markdown",
   "metadata": {},
   "source": [
    "# 2. Top-5 countries with highest proportion of the underweight in 2018"
   ]
  },
  {
   "cell_type": "code",
   "execution_count": 10,
   "metadata": {
    "scrolled": false
   },
   "outputs": [
    {
     "data": {
      "text/html": [
       "<div>\n",
       "<style scoped>\n",
       "    .dataframe tbody tr th:only-of-type {\n",
       "        vertical-align: middle;\n",
       "    }\n",
       "\n",
       "    .dataframe tbody tr th {\n",
       "        vertical-align: top;\n",
       "    }\n",
       "\n",
       "    .dataframe thead th {\n",
       "        text-align: right;\n",
       "    }\n",
       "</style>\n",
       "<table border=\"1\" class=\"dataframe\">\n",
       "  <thead>\n",
       "    <tr style=\"text-align: right;\">\n",
       "      <th></th>\n",
       "      <th>Country</th>\n",
       "      <th>Underweight</th>\n",
       "    </tr>\n",
       "  </thead>\n",
       "  <tbody>\n",
       "    <tr>\n",
       "      <th>594</th>\n",
       "      <td>NIGER (THE)</td>\n",
       "      <td>37.5</td>\n",
       "    </tr>\n",
       "    <tr>\n",
       "      <th>473</th>\n",
       "      <td>MADAGASCAR</td>\n",
       "      <td>26.4</td>\n",
       "    </tr>\n",
       "    <tr>\n",
       "      <th>622</th>\n",
       "      <td>PAKISTAN</td>\n",
       "      <td>23.1</td>\n",
       "    </tr>\n",
       "    <tr>\n",
       "      <th>63</th>\n",
       "      <td>BANGLADESH</td>\n",
       "      <td>21.9</td>\n",
       "    </tr>\n",
       "    <tr>\n",
       "      <th>605</th>\n",
       "      <td>NIGERIA</td>\n",
       "      <td>21.8</td>\n",
       "    </tr>\n",
       "  </tbody>\n",
       "</table>\n",
       "</div>"
      ],
      "text/plain": [
       "         Country  Underweight\n",
       "594  NIGER (THE)         37.5\n",
       "473   MADAGASCAR         26.4\n",
       "622     PAKISTAN         23.1\n",
       "63    BANGLADESH         21.9\n",
       "605      NIGERIA         21.8"
      ]
     },
     "execution_count": 10,
     "metadata": {},
     "output_type": "execute_result"
    }
   ],
   "source": [
    "data.loc[data['Year']==2018, ['Country', 'Underweight']].sort_values(by='Underweight',ascending=0).head(n=5)"
   ]
  },
  {
   "cell_type": "markdown",
   "metadata": {},
   "source": [
    "# 3. What is the average proportion of all malnutrition types for each income-level?"
   ]
  },
  {
   "cell_type": "code",
   "execution_count": 11,
   "metadata": {},
   "outputs": [
    {
     "data": {
      "image/png": "[encoded data removed]",
      "text/plain": [
       "<Figure size 1440x360 with 1 Axes>"
      ]
     },
     "metadata": {},
     "output_type": "display_data"
    }
   ],
   "source": [
    "import seaborn as sns\n",
    "import matplotlib.pyplot as plt\n",
    "\n",
    "# Copy the below columns into a new dataframe\n",
    "df_averages = data[['Income Classification', 'Overweight', 'Stunting', 'Underweight', 'Wasting', 'Severe Wasting']].copy()\n",
    "\n",
    "# For each income type, calculate average of each malnutrition type.\n",
    "df_overweight = df_averages.groupby([\"Income Classification\"]).mean()['Overweight'].reset_index(name='Mean')\n",
    "df_stunting = df_averages.groupby([\"Income Classification\"]).mean()['Stunting'].reset_index(name='Mean')\n",
    "df_underweight = df_averages.groupby([\"Income Classification\"]).mean()['Underweight'].reset_index(name='Mean')\n",
    "df_wasting = df_averages.groupby([\"Income Classification\"]).mean()['Wasting'].reset_index(name='Mean')\n",
    "df_severewasting = df_averages.groupby([\"Income Classification\"]).mean()['Severe Wasting'].reset_index(name='Mean')\n",
    "\n",
    "# Assign legend values\n",
    "df_overweight['hue']= 'Overweight'\n",
    "df_stunting['hue']= 'Stunting'\n",
    "df_underweight['hue'] = 'Underweight'\n",
    "df_wasting['hue'] = 'Wasting'\n",
    "df_severewasting['hue'] = 'Severe Wasting'\n",
    "\n",
    "# Combine/concatenate all the bar plots in a single plot, with common x-axis (Income Classification).\n",
    "result = pd.concat([df_overweight, df_stunting, df_underweight, df_severewasting, df_wasting])\n",
    "sns.set(style=\"whitegrid\")\n",
    "plt.figure(figsize=(20,5))\n",
    "\n",
    "# Use seaborn to plot the values.\n",
    "sns.barplot(x=\"Income Classification\",y='Mean',data=result, hue = 'hue', order = ['Low Income', 'Lower Middle Income', 'Upper Middle Income', 'High Income'])\n",
    "plt.show()"
   ]
  },
  {
   "cell_type": "markdown",
   "metadata": {},
   "source": [
    "# 4. Top-5 countries with highest proportion of the overweight in 2018"
   ]
  },
  {
   "cell_type": "code",
   "execution_count": 12,
   "metadata": {},
   "outputs": [
    {
     "data": {
      "text/html": [
       "<div>\n",
       "<style scoped>\n",
       "    .dataframe tbody tr th:only-of-type {\n",
       "        vertical-align: middle;\n",
       "    }\n",
       "\n",
       "    .dataframe tbody tr th {\n",
       "        vertical-align: top;\n",
       "    }\n",
       "\n",
       "    .dataframe thead th {\n",
       "        text-align: right;\n",
       "    }\n",
       "</style>\n",
       "<table border=\"1\" class=\"dataframe\">\n",
       "  <thead>\n",
       "    <tr style=\"text-align: right;\">\n",
       "      <th></th>\n",
       "      <th>Country</th>\n",
       "      <th>Overweight</th>\n",
       "    </tr>\n",
       "  </thead>\n",
       "  <tbody>\n",
       "    <tr>\n",
       "      <th>802</th>\n",
       "      <td>TUNISIA</td>\n",
       "      <td>17.2</td>\n",
       "    </tr>\n",
       "    <tr>\n",
       "      <th>136</th>\n",
       "      <td>CAMEROON</td>\n",
       "      <td>11.0</td>\n",
       "    </tr>\n",
       "    <tr>\n",
       "      <th>540</th>\n",
       "      <td>MONGOLIA</td>\n",
       "      <td>10.5</td>\n",
       "    </tr>\n",
       "    <tr>\n",
       "      <th>647</th>\n",
       "      <td>PERU</td>\n",
       "      <td>8.6</td>\n",
       "    </tr>\n",
       "    <tr>\n",
       "      <th>809</th>\n",
       "      <td>TURKEY</td>\n",
       "      <td>8.1</td>\n",
       "    </tr>\n",
       "  </tbody>\n",
       "</table>\n",
       "</div>"
      ],
      "text/plain": [
       "      Country  Overweight\n",
       "802   TUNISIA        17.2\n",
       "136  CAMEROON        11.0\n",
       "540  MONGOLIA        10.5\n",
       "647      PERU         8.6\n",
       "809    TURKEY         8.1"
      ]
     },
     "execution_count": 12,
     "metadata": {},
     "output_type": "execute_result"
    }
   ],
   "source": [
    "data.loc[data['Year']==2018, ['Country', 'Overweight']].sort_values(by='Overweight',ascending=0).head(n=5)"
   ]
  },
  {
   "cell_type": "markdown",
   "metadata": {},
   "source": [
    "# 5. How has Tunisia developed over the years?"
   ]
  },
  {
   "cell_type": "code",
   "execution_count": 13,
   "metadata": {},
   "outputs": [
    {
     "data": {
      "text/plain": [
       "Text(0, 0.5, 'Percentage')"
      ]
     },
     "execution_count": 13,
     "metadata": {},
     "output_type": "execute_result"
    },
    {
     "data": {
      "image/png": "[encoded data removed]",
      "text/plain": [
       "<Figure size 432x288 with 1 Axes>"
      ]
     },
     "metadata": {},
     "output_type": "display_data"
    }
   ],
   "source": [
    "tunisia = data.loc[data['Country']=='TUNISIA', ['Year', 'Overweight']].dropna()\n",
    "\n",
    "# !pip install matplotlib\n",
    "import matplotlib.pyplot as plt\n",
    "# !pip install numpy\n",
    "import numpy as np\n",
    "\n",
    "plt.plot(tunisia.iloc[:,0],tunisia.iloc[:,1])\n",
    "plt.title('Development of Overweight proportion Tunisia')\n",
    "plt.xlabel('Year')\n",
    "plt.ylabel('Percentage')\n"
   ]
  },
  {
   "cell_type": "markdown",
   "metadata": {},
   "source": [
    "# 6. Is there a correlation between income-level and overweight/underweight?"
   ]
  },
  {
   "cell_type": "code",
   "execution_count": 14,
   "metadata": {
    "scrolled": true
   },
   "outputs": [
    {
     "data": {
      "text/plain": [
       "<matplotlib.axes._subplots.AxesSubplot at 0x299c91bf1c8>"
      ]
     },
     "execution_count": 14,
     "metadata": {},
     "output_type": "execute_result"
    },
    {
     "data": {
      "image/png": "[encoded data removed]",
      "text/plain": [
       "<Figure size 432x288 with 2 Axes>"
      ]
     },
     "metadata": {},
     "output_type": "display_data"
    }
   ],
   "source": [
    "df = pd.DataFrame(data,columns=['Income_Categorical', 'Underweight', 'Overweight'])\n",
    "corrMatrix = df.corr()\n",
    "sns.heatmap(corrMatrix, annot=True)"
   ]
  },
  {
   "cell_type": "code",
   "execution_count": 15,
   "metadata": {},
   "outputs": [
    {
     "data": {
      "text/plain": [
       "<seaborn.axisgrid.FacetGrid at 0x299c93b3e88>"
      ]
     },
     "execution_count": 15,
     "metadata": {},
     "output_type": "execute_result"
    },
    {
     "data": {
      "image/png": "[encoded data removed]",
      "text/plain": [
       "<Figure size 360x360 with 1 Axes>"
      ]
     },
     "metadata": {},
     "output_type": "display_data"
    },
    {
     "data": {
      "image/png": "[encoded data removed]",
      "text/plain": [
       "<Figure size 360x360 with 1 Axes>"
      ]
     },
     "metadata": {},
     "output_type": "display_data"
    }
   ],
   "source": [
    "#Use seaborn to plot regression line for Overweight and Underweight values against different income-levels.\n",
    "sns.lmplot(x=\"Income_Categorical\", y=\"Overweight\", data=data,fit_reg=True)\n",
    "sns.lmplot(x=\"Income_Categorical\", y=\"Underweight\", data=data,fit_reg=True)"
   ]
  }
 ],
 "metadata": {
  "kernelspec": {
   "display_name": "Python 3",
   "language": "python",
   "name": "python3"
  },
  "language_info": {
   "codemirror_mode": {
    "name": "ipython",
    "version": 3
   },
   "file_extension": ".py",
   "mimetype": "text/x-python",
   "name": "python",
   "nbconvert_exporter": "python",
   "pygments_lexer": "ipython3",
   "version": "3.7.6"
  }
 },
 "nbformat": 4,
 "nbformat_minor": 4
}
